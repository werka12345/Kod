{
  "nbformat": 4,
  "nbformat_minor": 5,
  "metadata": {
    "kernelspec": {
      "display_name": "Python 3 (ipykernel)",
      "language": "python",
      "name": "python3"
    },
    "language_info": {
      "codemirror_mode": {
        "name": "ipython",
        "version": 3
      },
      "file_extension": ".py",
      "mimetype": "text/x-python",
      "name": "python",
      "nbconvert_exporter": "python",
      "pygments_lexer": "ipython3",
      "version": "3.9.7"
    },
    "colab": {
      "name": "2.0.ipynb",
      "provenance": [],
      "collapsed_sections": []
    }
  },
  "cells": [
    {
      "cell_type": "code",
      "metadata": {
        "id": "f5355a41",
        "colab": {
          "base_uri": "https://localhost:8080/"
        },
        "outputId": "d10dc029-000c-40aa-ed31-e64b7e4a4850"
      },
      "source": [
        "'''Data analyze library'''\n",
        "import pandas as pd\n",
        "\n",
        "baza = pd.read_excel('https://github.com/werka12345/Kod/blob/main/przepisy_baza.xlsx?raw=true')\n",
        "\n",
        "print(\"Witamy w naszym CookingPlanner!\")\n",
        "n_portions = int(input('Podaj ilosc porcji: '))\n",
        "n_dish = int(input('Podaj numer dania: '))\n",
        "\n",
        "def pokaz_ilosc(portions,dish):\n",
        "    '''\n",
        "    input:  n_portions = number of portions, n_dish = the dish ID number\n",
        "\n",
        "    returns: name of the dish,number of portions and amount of each ingredient\n",
        "\n",
        "    '''\n",
        "    print('DANIE: '+baza.iloc[dish-1][1]+'   LICZBA PORCJI: '+str(portions))\n",
        "    for i in range(10):\n",
        "        print(baza.columns[3+i], ': ', portions*baza.iloc[dish-1][3+i], ' g')\n",
        "\n",
        "if __name__ == '__main__':\n",
        "    print('Oto czego potrzebujesz: ')\n",
        "    (pokaz_ilosc(n_portions,n_dish))\n"
      ],
      "id": "f5355a41",
      "execution_count": 18,
      "outputs": [
        {
          "output_type": "stream",
          "name": "stdout",
          "text": [
            "Witamy w naszym CookingPlanner!\n",
            "Podaj ilosc porcji: 3\n",
            "Podaj numer dania: 2\n",
            "Oto czego potrzebujesz: \n",
            "DANIE: mielony_z_buraczkami_i_ziemniakami   LICZBA PORCJI: 3\n",
            "ZIEMNIAKI :  900  g\n",
            "MIĘSO MIELONE :  450  g\n",
            "SCHAB :  0  g\n",
            "KAPUSTA :  0  g\n",
            "MARCHEW :  0  g\n",
            "PIECZARKI :  0  g\n",
            "OGÓRKI :  0  g\n",
            "BURAKI :  480  g\n",
            "MĄKA :  0  g\n",
            "ŚMIETANA :  0  g\n"
          ]
        }
      ]
    },
    {
      "cell_type": "code",
      "metadata": {
        "id": "MNTPUdRAK22D"
      },
      "source": [
        ""
      ],
      "id": "MNTPUdRAK22D",
      "execution_count": null,
      "outputs": []
    },
    {
      "cell_type": "code",
      "metadata": {
        "id": "b5094c84"
      },
      "source": [
        ""
      ],
      "id": "b5094c84",
      "execution_count": null,
      "outputs": []
    }
  ]
}