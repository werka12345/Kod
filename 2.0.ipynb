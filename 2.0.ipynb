{
 "cells": [
  {
   "cell_type": "code",
   "execution_count": 1,
   "id": "f5355a41",
   "metadata": {},
   "outputs": [
    {
     "name": "stdout",
     "output_type": "stream",
     "text": [
      "Witamy w naszym CookingPlanner!\n",
      "Podaj ilosc porcji: 20\n",
      "Podaj numer dania: 20\n",
      "Oto czego potrzebujesz: \n",
      "DANIE: kopytka_z_sosem_marchewkowym   LICZBA PORCJI: 20\n",
      "ZIEMNIAKI :  3000  g\n",
      "MIĘSO MIELONE :  0  g\n",
      "SCHAB :  0  g\n",
      "KAPUSTA :  0  g\n",
      "MARCHEW :  3000  g\n",
      "PIECZARKI :  0  g\n",
      "OGÓRKI :  0  g\n",
      "BURAKI :  0  g\n",
      "MĄKA :  5000  g\n",
      "ŚMIETANA :  0  g\n"
     ]
    }
   ],
   "source": [
    "'''Data analyze library'''\n",
    "import pandas as pd\n",
    "\n",
    "def pokaz_ilosc(portions,dish):\n",
    "    '''\n",
    "    input: \n",
    "    \n",
    "    n_portions = number of portions\n",
    "    n_dish = the dish ID number\n",
    "\n",
    "    returns: \n",
    "    \n",
    "    name of the dish, number of portions and amount of each ingredient\n",
    "\n",
    "    '''\n",
    "    print('DANIE: '+baza.iloc[dish-1][1]+'   LICZBA PORCJI: '+str(portions))\n",
    "    for i in range(10):\n",
    "        print(baza.columns[3+i], ': ', portions*baza.iloc[dish-1][3+i], ' g')\n",
    "\n",
    "if __name__ == '__main__':\n",
    "    \n",
    "    baza = pd.read_excel('data/przepisy_baza.xlsx')\n",
    "    print(\"Witamy w naszym CookingPlanner!\")\n",
    "    n_portions = int(input('Podaj ilosc porcji: '))\n",
    "    n_dish = int(input('Podaj numer dania: '))\n",
    "    print('Oto czego potrzebujesz: ')\n",
    "    pokaz_ilosc(n_portions,n_dish)"
   ]
  }
 ],
 "metadata": {
  "kernelspec": {
   "display_name": "Python 3",
   "language": "python",
   "name": "python3"
  },
  "language_info": {
   "codemirror_mode": {
    "name": "ipython",
    "version": 3
   },
   "file_extension": ".py",
   "mimetype": "text/x-python",
   "name": "python",
   "nbconvert_exporter": "python",
   "pygments_lexer": "ipython3",
   "version": "3.8.8"
  }
 },
 "nbformat": 4,
 "nbformat_minor": 5
}
